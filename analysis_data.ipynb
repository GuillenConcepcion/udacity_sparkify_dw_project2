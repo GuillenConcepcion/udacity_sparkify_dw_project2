{
 "cells": [
  {
   "cell_type": "markdown",
   "id": "5efaf18d-e66d-4d37-8eae-f8b33ce5dba3",
   "metadata": {},
   "source": [
    "## Load DWH Params from a file"
   ]
  },
  {
   "cell_type": "code",
   "execution_count": 31,
   "id": "15304520-171a-41bb-9f05-58edac6df340",
   "metadata": {},
   "outputs": [],
   "source": [
    "import configparser\n",
    "import psycopg2\n",
    "import boto3"
   ]
  },
  {
   "cell_type": "code",
   "execution_count": null,
   "id": "90959421-dd9d-4f00-92ee-5daf42fd06ea",
   "metadata": {},
   "outputs": [],
   "source": [
    "config = configparser.ConfigParser()\n",
    "config.read_file(open('dwh.cfg'))\n",
    "DWH_CLUSTER_IDENTIFIER = config.get(\"CLUSTER\",\"DWH_CLUSTER_IDENTIFIER\")\n",
    "KEY           = config.get('AWS','KEY')\n",
    "SECRET        = config.get('AWS','SECRET')\n",
    "DWH_DB_NAME            = config.get(\"CLUSTER\",\"DB_NAME\")\n",
    "DWH_DB_USER            = config.get(\"CLUSTER\",\"DB_USER\")\n",
    "DWH_DB_PASSWORD        = config.get(\"CLUSTER\",\"DB_PASSWORD\")\n",
    "DWH_PORT               = int(config.get(\"CLUSTER\",\"DB_PORT\"))\n",
    "DWH_ENDPOINT           = config.get(\"CLUSTER\",\"HOST\")\n",
    "DWH_IAM_ROLE_NAME      = config.get(\"IAM_ROLE\",\"dwh_iam_role_name\")\n",
    "\n"
   ]
  },
  {
   "cell_type": "markdown",
   "id": "945711f1-4930-4605-a753-14e64a7d3522",
   "metadata": {},
   "source": [
    "## Create clients and resources for IAM and Redshift"
   ]
  },
  {
   "cell_type": "code",
   "execution_count": null,
   "id": "6c975eea-d44d-45ea-b9a1-844531379385",
   "metadata": {},
   "outputs": [],
   "source": [
    "iam = boto3.client('iam',region_name='us-west-2', \n",
    "                      aws_access_key_id=KEY,\n",
    "                      aws_secret_access_key=SECRET)\n",
    "\n",
    "redshift = boto3.client('redshift',\n",
    "                        region_name='us-west-2', \n",
    "                        aws_access_key_id=KEY,\n",
    "                        aws_secret_access_key=SECRET)"
   ]
  },
  {
   "cell_type": "markdown",
   "id": "f2a3aa57-b2aa-443d-b517-2d43e90eabad",
   "metadata": {},
   "source": [
    "## Connect with Redshift Cluster"
   ]
  },
  {
   "cell_type": "code",
   "execution_count": 33,
   "id": "f25da122-32f2-4ea5-82cf-51491b761267",
   "metadata": {},
   "outputs": [
    {
     "name": "stdout",
     "output_type": "stream",
     "text": [
      "The sql extension is already loaded. To reload it, use:\n",
      "  %reload_ext sql\n"
     ]
    }
   ],
   "source": [
    "%load_ext sql"
   ]
  },
  {
   "cell_type": "code",
   "execution_count": 34,
   "id": "57169cce-8074-4e92-9fdd-9b4402d67213",
   "metadata": {},
   "outputs": [
    {
     "name": "stdout",
     "output_type": "stream",
     "text": [
      "<connection object at 0x7f5f30fffe00; dsn: 'user=dwhuser password=xxx dbname=sparkfly_songs host=dwhclustersparkfly.c1rlryzy0frw.us-west-2.redshift.amazonaws.com port=5439', closed: 0>\n"
     ]
    }
   ],
   "source": [
    "conn_string = psycopg2.connect(\"host={} dbname={} user={} password={} port={}\".format(DWH_ENDPOINT,DWH_DB_NAME,DWH_DB_USER, DWH_DB_PASSWORD,DWH_PORT))\n",
    "print(conn_string)\n"
   ]
  },
  {
   "cell_type": "code",
   "execution_count": null,
   "id": "f3047993-65d8-48a0-af61-e855dea74f67",
   "metadata": {},
   "outputs": [],
   "source": []
  },
  {
   "cell_type": "markdown",
   "id": "ce596a61-35d1-4ab4-ad50-9ea2ad20b187",
   "metadata": {},
   "source": [
    "## Perform some simple data analysis"
   ]
  },
  {
   "cell_type": "code",
   "execution_count": 35,
   "id": "8793671f-1b99-4936-b208-c30b04333ee5",
   "metadata": {},
   "outputs": [],
   "source": [
    "# Create a cursor object\n",
    "cur = conn_string.cursor()"
   ]
  },
  {
   "cell_type": "markdown",
   "id": "6ac7d5cb-c455-4880-9dcc-c961c568be0c",
   "metadata": {},
   "source": [
    "### 1-Most played song"
   ]
  },
  {
   "cell_type": "code",
   "execution_count": null,
   "id": "e26980f4-fc1f-48b5-b400-7bb481eaecec",
   "metadata": {},
   "outputs": [],
   "source": [
    "cur.execute( \" select s.title as song_name,COUNT(sp.song_id) as most_played \\\n",
    "FROM songplays sp \\\n",
    "JOIN songs s on sp.song_id=s.song_id \\\n",
    "GROUP BY(s.title) \\\n",
    "ORDER  BY most_played DESC \\\n",
    "limit 1;\")"
   ]
  },
  {
   "cell_type": "code",
   "execution_count": null,
   "id": "07ea2878-0110-4fb8-a90d-a2730431b5b9",
   "metadata": {},
   "outputs": [],
   "source": [
    "# Fetch and print the results\n",
    "rows = cur.fetchall()\n",
    "for row in rows:\n",
    "    print(row)\n"
   ]
  },
  {
   "cell_type": "markdown",
   "id": "0ef33b4c-e52a-450a-89e7-176d279f8a2a",
   "metadata": {},
   "source": [
    "## Close connection"
   ]
  },
  {
   "cell_type": "code",
   "execution_count": null,
   "id": "fc171540-0fd7-4766-b443-13d5692a3dae",
   "metadata": {},
   "outputs": [],
   "source": [
    "# Close the connection\n",
    "cur.close()\n",
    "conn.close()"
   ]
  },
  {
   "cell_type": "markdown",
   "id": "e615738a-ac79-4d80-a66f-c294eaa67ad7",
   "metadata": {},
   "source": [
    "## Delete a cluster"
   ]
  },
  {
   "cell_type": "code",
   "execution_count": null,
   "id": "5c88bbdf-4008-4bf9-a10b-854d3cec1ff3",
   "metadata": {},
   "outputs": [],
   "source": [
    "#### CAREFUL!!\n",
    "#-- Uncomment & run to delete the created resources\n",
    "redshift.delete_cluster( ClusterIdentifier=DWH_CLUSTER_IDENTIFIER,  SkipFinalClusterSnapshot=True)\n",
    "#### CAREFUL!!"
   ]
  },
  {
   "cell_type": "code",
   "execution_count": null,
   "id": "7fdf383a-1854-470d-91ea-33dffaf8dbc4",
   "metadata": {},
   "outputs": [],
   "source": [
    "myClusterProps = redshift.describe_clusters(ClusterIdentifier=DWH_CLUSTER_IDENTIFIER)['Clusters'][0]\n",
    "prettyRedshiftProps(myClusterProps)"
   ]
  },
  {
   "cell_type": "code",
   "execution_count": null,
   "id": "26e8fdaf-f56c-4b6c-95b8-580ca09408ca",
   "metadata": {},
   "outputs": [],
   "source": [
    "#### CAREFUL!!\n",
    "#-- Uncomment & run to delete the created resources\n",
    "iam.detach_role_policy(RoleName=DWH_IAM_ROLE_NAME, PolicyArn=\"arn:aws:iam::aws:policy/AmazonS3ReadOnlyAccess\")\n",
    "iam.delete_role(RoleName=DWH_IAM_ROLE_NAME)\n",
    "#### CAREFUL!!"
   ]
  }
 ],
 "metadata": {
  "kernelspec": {
   "display_name": "Python 3 (ipykernel)",
   "language": "python",
   "name": "python3"
  },
  "language_info": {
   "codemirror_mode": {
    "name": "ipython",
    "version": 3
   },
   "file_extension": ".py",
   "mimetype": "text/x-python",
   "name": "python",
   "nbconvert_exporter": "python",
   "pygments_lexer": "ipython3",
   "version": "3.8.10"
  }
 },
 "nbformat": 4,
 "nbformat_minor": 5
}
